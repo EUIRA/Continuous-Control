{
 "cells": [
  {
   "cell_type": "markdown",
   "metadata": {},
   "source": [
    "# Continuous Control\n",
    "\n",
    "This notebook is the second project of Deep Reinforcement Learnig Nanodgree(@udacity).\n",
    "\n",
    "\n",
    " - Deep Deterministic Policy Gradient; Soft Updates and Replay buffer implemented in the Unity environment.\n",
    " - Please note that the code from the DDPG lecture was used as the source.\n",
    "\n",
    "All you have to do is run the code cells one by one. You'll see an untrained agent become an expert."
   ]
  },
  {
   "cell_type": "markdown",
   "metadata": {},
   "source": [
    "### 1. Start the Environment"
   ]
  },
  {
   "cell_type": "code",
   "execution_count": 1,
   "metadata": {},
   "outputs": [],
   "source": [
    "import random\n",
    "import time\n",
    "import copy\n",
    "import numpy as np\n",
    "from collections import namedtuple, deque\n",
    "from unityagents import UnityEnvironment\n",
    "import matplotlib.pyplot as plt\n",
    "%matplotlib inline"
   ]
  },
  {
   "cell_type": "markdown",
   "metadata": {},
   "source": [
    "Sure you like Pytorch"
   ]
  },
  {
   "cell_type": "code",
   "execution_count": 2,
   "metadata": {},
   "outputs": [],
   "source": [
    "import torch\n",
    "import torch.nn as nn\n",
    "import torch.optim as optim\n",
    "import torch.nn.functional as F"
   ]
  },
  {
   "cell_type": "markdown",
   "metadata": {},
   "source": [
    "This notebook placed in the same folder as *'recheacher.exe'* runs fine on **windows10**. It can't be guaranteed the nice results on other operating systems.\n",
    "\n",
    "Let's start the Environment!"
   ]
  },
  {
   "cell_type": "code",
   "execution_count": 3,
   "metadata": {},
   "outputs": [
    {
     "name": "stderr",
     "output_type": "stream",
     "text": [
      "INFO:unityagents:\n",
      "'Academy' started successfully!\n",
      "Unity Academy name: Academy\n",
      "        Number of Brains: 1\n",
      "        Number of External Brains : 1\n",
      "        Lesson number : 0\n",
      "        Reset Parameters :\n",
      "\t\tgoal_speed -> 1.0\n",
      "\t\tgoal_size -> 5.0\n",
      "Unity brain name: ReacherBrain\n",
      "        Number of Visual Observations (per agent): 0\n",
      "        Vector Observation space type: continuous\n",
      "        Vector Observation space size (per agent): 33\n",
      "        Number of stacked Vector Observation: 1\n",
      "        Vector Action space type: continuous\n",
      "        Vector Action space size (per agent): 4\n",
      "        Vector Action descriptions: , , , \n"
     ]
    }
   ],
   "source": [
    "env = UnityEnvironment(file_name=\"Reacher.exe\")"
   ]
  },
  {
   "cell_type": "markdown",
   "metadata": {},
   "source": [
    "Let's make the first ***brain*** available, and set it as the default one."
   ]
  },
  {
   "cell_type": "code",
   "execution_count": 4,
   "metadata": {},
   "outputs": [],
   "source": [
    "brain_name = env.brain_names[0]\n",
    "brain = env.brains[brain_name]"
   ]
  },
  {
   "cell_type": "markdown",
   "metadata": {},
   "source": [
    "### 2. Examine the State and Action Spaces"
   ]
  },
  {
   "cell_type": "code",
   "execution_count": 5,
   "metadata": {},
   "outputs": [
    {
     "name": "stdout",
     "output_type": "stream",
     "text": [
      "Number of agents: 20\n",
      "Size of each action: 4\n",
      "There are 20 agents. Each observes a state with length: 33\n",
      "The state for the first agent looks like: [ 0.00000000e+00 -4.00000000e+00  0.00000000e+00  1.00000000e+00\n",
      " -0.00000000e+00 -0.00000000e+00 -4.37113883e-08  0.00000000e+00\n",
      "  0.00000000e+00  0.00000000e+00  0.00000000e+00  0.00000000e+00\n",
      "  0.00000000e+00  0.00000000e+00 -1.00000000e+01  0.00000000e+00\n",
      "  1.00000000e+00 -0.00000000e+00 -0.00000000e+00 -4.37113883e-08\n",
      "  0.00000000e+00  0.00000000e+00  0.00000000e+00  0.00000000e+00\n",
      "  0.00000000e+00  0.00000000e+00  5.75471878e+00 -1.00000000e+00\n",
      "  5.55726624e+00  0.00000000e+00  1.00000000e+00  0.00000000e+00\n",
      " -1.68164849e-01]\n"
     ]
    }
   ],
   "source": [
    "env_info = env.reset(train_mode=True)[brain_name]\n",
    "num_agents = len(env_info.agents)\n",
    "print('Number of agents:', num_agents)\n",
    "\n",
    "action_size = brain.vector_action_space_size\n",
    "print('Size of each action:', action_size)\n",
    "\n",
    "states = env_info.vector_observations\n",
    "state_size = states.shape[1]\n",
    "print('There are {} agents. Each observes a state with length: {}'.format(states.shape[0], state_size))\n",
    "print('The state for the first agent looks like:', states[0])"
   ]
  },
  {
   "cell_type": "markdown",
   "metadata": {},
   "source": [
    "### 3. Take Random Actions in the Environment"
   ]
  },
  {
   "cell_type": "code",
   "execution_count": 6,
   "metadata": {},
   "outputs": [
    {
     "name": "stdout",
     "output_type": "stream",
     "text": [
      "Total score (averaged over agents) this episode: 0.0\n"
     ]
    }
   ],
   "source": [
    "env_info = env.reset(train_mode=False)[brain_name]\n",
    "states = env_info.vector_observations\n",
    "scores = np.zeros(num_agents)\n",
    "for i in range(100):\n",
    "    actions = np.random.randn(num_agents, action_size)\n",
    "    actions = np.clip(actions, -1, 1)\n",
    "    env_info = env.step(actions)[brain_name]\n",
    "    next_states = env_info.vector_observations\n",
    "    rewards = env_info.rewards\n",
    "    dones = env_info.local_done\n",
    "    scores += env_info.rewards\n",
    "    states = next_states\n",
    "    if np.any(dones):\n",
    "        break\n",
    "print('Total score (averaged over agents) this episode: {}'.format(np.mean(scores)))"
   ]
  },
  {
   "cell_type": "markdown",
   "metadata": {},
   "source": [
    "### 4. Actor Critic Network\n",
    "There are two classes in following code cell\n",
    "\n",
    " - Actor: states -> actions\n",
    " - Critic : state and action -> Q-values."
   ]
  },
  {
   "cell_type": "code",
   "execution_count": 7,
   "metadata": {},
   "outputs": [],
   "source": [
    "def hidden_init(layer):\n",
    "    fan_in = layer.weight.data.size()[0]\n",
    "    lim = 1. / np.sqrt(fan_in)\n",
    "    return (-lim, lim)\n",
    "\n",
    "class Actor(nn.Module):   \n",
    "\n",
    "    def __init__(self, state_size, action_size, seed, fc1_units=320, fc2_units=160):\n",
    "        super(Actor, self).__init__()\n",
    "        self.seed = torch.manual_seed(seed)\n",
    "        self.fc1 = nn.Linear(state_size, fc1_units)\n",
    "        # Batch Nomalization\n",
    "        self.bn1 = nn.BatchNorm1d(fc1_units)\n",
    "        self.fc2 = nn.Linear(fc1_units, fc2_units)\n",
    "        self.bn2 = nn.BatchNorm1d(fc2_units)\n",
    "        self.fc3 = nn.Linear(fc2_units, action_size)\n",
    "        self.bn3 = nn.BatchNorm1d(action_size)\n",
    "        # reset paramters\n",
    "        self.fc1.weight.data.uniform_(*hidden_init(self.fc1))\n",
    "        self.fc2.weight.data.uniform_(*hidden_init(self.fc2))\n",
    "        self.fc3.weight.data.uniform_(-3e-3, 3e-3)\n",
    "\n",
    "    def forward(self, state):        \n",
    "        x = F.relu(self.bn1(self.fc1(state)))\n",
    "        x = F.relu(self.bn2(self.fc2(x)))\n",
    "        return F.tanh(self.bn3(self.fc3(x)))\n",
    "\n",
    "\n",
    "class Critic(nn.Module):\n",
    "    \n",
    "    def __init__(self, state_size, action_size, seed, fcs1_units=320, fc2_units=160):  \n",
    "        super(Critic, self).__init__()\n",
    "        self.seed = torch.manual_seed(seed)\n",
    "        self.fcs1 = nn.Linear(state_size, fcs1_units)\n",
    "        self.fc2 = nn.Linear(fcs1_units+action_size, fc2_units)        \n",
    "        self.fc3 = nn.Linear(fc2_units, 1)\n",
    "        # reset paramters\n",
    "        self.fcs1.weight.data.uniform_(*hidden_init(self.fcs1))\n",
    "        self.fc2.weight.data.uniform_(*hidden_init(self.fc2))\n",
    "        self.fc3.weight.data.uniform_(-3e-3, 3e-3)\n",
    "\n",
    "    def forward(self, state, action):        \n",
    "        xs = F.relu(self.fcs1(state))\n",
    "        x = torch.cat((xs, action), dim=1)\n",
    "        x = F.relu(self.fc2(x))\n",
    "        \n",
    "        return self.fc3(x)"
   ]
  },
  {
   "cell_type": "markdown",
   "metadata": {},
   "source": [
    "### 5. Replay Buffer"
   ]
  },
  {
   "cell_type": "code",
   "execution_count": 8,
   "metadata": {},
   "outputs": [],
   "source": [
    "class ReplayBuffer:\n",
    "    def __init__(self, buffer_size, batch_size, seed):        \n",
    "        self.memory = deque(maxlen=buffer_size)  # internal memory (deque)\n",
    "        self.batch_size = batch_size\n",
    "        self.experience = namedtuple(\"Experience\", field_names=[\"state\", \"action\", \"reward\", \"next_state\", \"done\"])\n",
    "        self.seed = random.seed(seed)\n",
    "    \n",
    "    def add(self, state, action, reward, next_state, done):        \n",
    "        e = self.experience(state, action, reward, next_state, done)\n",
    "        self.memory.append(e)\n",
    "    \n",
    "    def sample(self):\n",
    "        experiences = random.sample(self.memory, k=self.batch_size)\n",
    "        states = torch.from_numpy(np.vstack([e.state for e in experiences if e is not None])).float().to(device)\n",
    "        actions = torch.from_numpy(np.vstack([e.action for e in experiences if e is not None])).float().to(device)\n",
    "        rewards = torch.from_numpy(np.vstack([e.reward for e in experiences if e is not None])).float().to(device)\n",
    "        next_states = torch.from_numpy(np.vstack([e.next_state for e in experiences if e is not None])).float().to(device)\n",
    "        dones = torch.from_numpy(np.vstack([e.done for e in experiences if e is not None]).astype(np.uint8)).float().to(device)\n",
    "\n",
    "        return (states, actions, rewards, next_states, dones)\n",
    "\n",
    "    def __len__(self):\n",
    "        return len(self.memory)"
   ]
  },
  {
   "cell_type": "markdown",
   "metadata": {},
   "source": [
    "### 6. Noisy process"
   ]
  },
  {
   "cell_type": "code",
   "execution_count": 9,
   "metadata": {},
   "outputs": [],
   "source": [
    "class OUNoise:\n",
    "    \n",
    "    def __init__(self, size, seed, mu=0., theta=0.15, sigma=0.2):    \n",
    "        self.mu = mu * np.ones(size)\n",
    "        self.theta = theta\n",
    "        self.sigma = sigma\n",
    "        self.seed = random.seed(seed)\n",
    "        self.size = size\n",
    "        self.reset()\n",
    "\n",
    "    def reset(self):\n",
    "        self.state = copy.copy(self.mu)\n",
    "\n",
    "    def sample(self):\n",
    "        x = self.state\n",
    "        dx = self.theta * (self.mu - x) + self.sigma * np.random.standard_normal(self.size)\n",
    "        self.state = x + dx\n",
    "        return self.state"
   ]
  },
  {
   "cell_type": "markdown",
   "metadata": {},
   "source": [
    "### 7. DDPG Agent"
   ]
  },
  {
   "cell_type": "code",
   "execution_count": 10,
   "metadata": {},
   "outputs": [],
   "source": [
    "BUFFER_SIZE = int(1e5)\n",
    "BATCH_SIZE = 128\n",
    "GAMMA = 0.99\n",
    "TAU = 1e-3\n",
    "LR_ACTOR = 1e-4\n",
    "LR_CRITIC = 1e-4\n",
    "WEIGHT_DECAY = 0\n",
    "\n",
    "device = torch.device(\"cuda:0\" if torch.cuda.is_available() else \"cpu\")\n",
    "\n",
    "class DDPG_agent():\n",
    "    def __init__(self, state_size, action_size, num_agents, random_seed):\n",
    "        \n",
    "        self.state_size = state_size\n",
    "        self.action_size = action_size\n",
    "        self.seed = random_seed\n",
    "                \n",
    "        self.actor_local = Actor(self.state_size, self.action_size, self.seed).to(device)\n",
    "        self.actor_target = Actor(self.state_size, self.action_size, self.seed).to(device)\n",
    "        self.actor_optimizer = optim.Adam(self.actor_local.parameters(), lr=LR_ACTOR)\n",
    "        \n",
    "        self.critic_local = Critic(self.state_size, self.action_size, self.seed).to(device)\n",
    "        self.critic_target = Critic(self.state_size, self.action_size, self.seed).to(device)\n",
    "        self.critic_optimizer = optim.Adam(self.critic_local.parameters(), lr=LR_CRITIC, weight_decay=WEIGHT_DECAY)\n",
    "        \n",
    "        self.noise = OUNoise((num_agents,action_size), random_seed)\n",
    "        self.memory = ReplayBuffer(BUFFER_SIZE, BATCH_SIZE, random_seed)       \n",
    "        \n",
    "    def act(self, state, add_noise=True):\n",
    "        state = torch.from_numpy(state).float().to(device)\n",
    "        self.actor_local.eval()\n",
    "        with torch.no_grad():\n",
    "            action = self.actor_local(state).cpu().data.numpy()\n",
    "        \n",
    "        self.actor_local.train()\n",
    "        if add_noise:\n",
    "            action += self.noise.sample()       \n",
    "        \n",
    "        return np.clip(action, -1, 1)\n",
    "        \n",
    "    def step(self, state, action, reward, next_state, done):\n",
    "        for i in range(state.shape[0]):\n",
    "            self.memory.add(state[i, :], action[i], reward[i], next_state[i, :], done[i])\n",
    "                \n",
    "        if len(self.memory) > BATCH_SIZE:\n",
    "            experiences = self.memory.sample()\n",
    "            self.learn(experiences, GAMMA)\n",
    "        \n",
    "    def reset(self):\n",
    "        self.noise.reset()\n",
    "        \n",
    "    def learn(self, experiences, gamma):\n",
    "        states, actions, rewards, next_states, dones = experiences\n",
    "        actions_next = self.actor_target(next_states)\n",
    "        Q_targets_next = self.critic_target(next_states, actions_next)\n",
    "        Q_targets = rewards + (gamma * Q_targets_next * (1 - dones))\n",
    "        Q_expected = self.critic_local(states, actions)\n",
    "        critic_loss = F.mse_loss(Q_expected, Q_targets)\n",
    "        self.critic_optimizer.zero_grad()\n",
    "        critic_loss.backward()\n",
    "        self.critic_optimizer.step()\n",
    "        actions_pred = self.actor_local(states)\n",
    "        actor_loss = -self.critic_local(states, actions_pred).mean()\n",
    "        self.actor_optimizer.zero_grad()\n",
    "        actor_loss.backward()\n",
    "        self.actor_optimizer.step()\n",
    "        self.soft_update(self.critic_local, self.critic_target, TAU)\n",
    "        self.soft_update(self.actor_local, self.actor_target, TAU)                     \n",
    "\n",
    "    def soft_update(self, local_model, target_model, tau):\n",
    "        for target_param, local_param in zip(target_model.parameters(), local_model.parameters()):\n",
    "            target_param.data.copy_(tau*local_param.data + (1.0-tau)*target_param.data)"
   ]
  },
  {
   "cell_type": "markdown",
   "metadata": {},
   "source": [
    "### 8. Training"
   ]
  },
  {
   "cell_type": "code",
   "execution_count": 11,
   "metadata": {},
   "outputs": [],
   "source": [
    "agents = DDPG_agent(state_size=state_size, action_size=action_size, num_agents=num_agents, random_seed=0)\n",
    "\n",
    "def DDPG(n_episodes=500, max_t=1000):\n",
    "    scores_deque = deque(maxlen=100)\n",
    "    print_every = 10\n",
    "    scores = []\n",
    "    for i_episode in range(1, n_episodes+1):\n",
    "        env_info = env.reset(train_mode=True)[brain_name]\n",
    "        state = env_info.vector_observations\n",
    "        agents.reset()\n",
    "        score = np.zeros(num_agents)\n",
    "       \n",
    "        for t in range(max_t):\n",
    "            action = agents.act(state)\n",
    "            env_info = env.step(action)[brain_name]\n",
    "            next_state = env_info.vector_observations\n",
    "            rewards = env_info.rewards\n",
    "            dones = env_info.local_done\n",
    "            agents.step(state, action, rewards, next_state, dones)\n",
    "            state = next_state\n",
    "            score += rewards\n",
    "            if np.any(dones):\n",
    "                print('\\tSteps: ', t)\n",
    "                break \n",
    "        scores_deque.append(np.mean(score))\n",
    "        scores.append(np.mean(score))\n",
    "        print('\\rEpisode {}\\tAverage Score: {:.2f}\\tScore: {:.3f}'.format(i_episode, \n",
    "                                                                          np.mean(scores_deque), \n",
    "                                                                          np.mean(score)))\n",
    "        average_score = np.mean(scores_deque)\n",
    "        if i_episode % print_every == 20 or average_score > 30:\n",
    "            print('\\rEpisode {}\\tAverage Score: {:.2f}'.format(i_episode, average_score))\n",
    "            torch.save(agents.actor_local.state_dict(), 'checkpoint_actor.pth')\n",
    "            torch.save(agents.critic_local.state_dict(), 'checkpoint_critic.pth') \n",
    "            if average_score > 30:\n",
    "                break\n",
    "    return scores"
   ]
  },
  {
   "cell_type": "markdown",
   "metadata": {},
   "source": [
    "Finally, training begins."
   ]
  },
  {
   "cell_type": "code",
   "execution_count": 12,
   "metadata": {},
   "outputs": [
    {
     "name": "stderr",
     "output_type": "stream",
     "text": [
      "C:\\Users\\user\\Anaconda3\\envs\\drlnd\\lib\\site-packages\\torch\\nn\\functional.py:1340: UserWarning: nn.functional.tanh is deprecated. Use torch.tanh instead.\n",
      "  warnings.warn(\"nn.functional.tanh is deprecated. Use torch.tanh instead.\")\n"
     ]
    },
    {
     "name": "stdout",
     "output_type": "stream",
     "text": [
      "Episode 1\tAverage Score: 0.48\tScore: 0.482\n",
      "Episode 2\tAverage Score: 0.58\tScore: 0.676\n",
      "Episode 3\tAverage Score: 0.71\tScore: 0.967\n",
      "Episode 4\tAverage Score: 0.76\tScore: 0.921\n",
      "Episode 5\tAverage Score: 0.77\tScore: 0.822\n",
      "Episode 6\tAverage Score: 0.81\tScore: 0.995\n",
      "Episode 7\tAverage Score: 0.90\tScore: 1.417\n",
      "Episode 8\tAverage Score: 1.02\tScore: 1.899\n",
      "Episode 9\tAverage Score: 1.18\tScore: 2.473\n",
      "Episode 10\tAverage Score: 1.34\tScore: 2.729\n",
      "Episode 11\tAverage Score: 1.53\tScore: 3.455\n",
      "Episode 12\tAverage Score: 1.77\tScore: 4.423\n",
      "Episode 13\tAverage Score: 2.05\tScore: 5.398\n",
      "Episode 14\tAverage Score: 2.30\tScore: 5.542\n",
      "Episode 15\tAverage Score: 2.66\tScore: 7.745\n",
      "Episode 16\tAverage Score: 3.07\tScore: 9.139\n",
      "Episode 17\tAverage Score: 3.48\tScore: 10.079\n",
      "Episode 18\tAverage Score: 4.10\tScore: 14.545\n",
      "Episode 19\tAverage Score: 4.67\tScore: 14.925\n",
      "Episode 20\tAverage Score: 5.47\tScore: 20.694\n",
      "Episode 21\tAverage Score: 6.20\tScore: 20.784\n",
      "Episode 22\tAverage Score: 7.10\tScore: 26.124\n",
      "Episode 23\tAverage Score: 8.15\tScore: 31.274\n",
      "Episode 24\tAverage Score: 9.23\tScore: 34.101\n",
      "Episode 25\tAverage Score: 10.31\tScore: 36.188\n",
      "Episode 26\tAverage Score: 11.34\tScore: 36.967\n",
      "Episode 27\tAverage Score: 12.30\tScore: 37.457\n",
      "Episode 28\tAverage Score: 13.21\tScore: 37.568\n",
      "Episode 29\tAverage Score: 14.06\tScore: 37.982\n",
      "Episode 30\tAverage Score: 14.86\tScore: 38.072\n",
      "Episode 31\tAverage Score: 15.61\tScore: 37.961\n",
      "Episode 32\tAverage Score: 16.31\tScore: 38.207\n",
      "Episode 33\tAverage Score: 16.98\tScore: 38.169\n",
      "Episode 34\tAverage Score: 17.58\tScore: 37.503\n",
      "Episode 35\tAverage Score: 18.16\tScore: 37.973\n",
      "Episode 36\tAverage Score: 18.71\tScore: 38.023\n",
      "Episode 37\tAverage Score: 19.23\tScore: 37.727\n",
      "Episode 38\tAverage Score: 19.72\tScore: 37.819\n",
      "Episode 39\tAverage Score: 20.18\tScore: 37.879\n",
      "Episode 40\tAverage Score: 20.62\tScore: 37.801\n",
      "Episode 41\tAverage Score: 21.05\tScore: 38.293\n",
      "Episode 42\tAverage Score: 21.45\tScore: 37.846\n",
      "Episode 43\tAverage Score: 21.83\tScore: 37.569\n",
      "Episode 44\tAverage Score: 22.17\tScore: 36.992\n",
      "Episode 45\tAverage Score: 22.52\tScore: 37.801\n",
      "Episode 46\tAverage Score: 22.84\tScore: 37.409\n",
      "Episode 47\tAverage Score: 23.15\tScore: 37.421\n",
      "Episode 48\tAverage Score: 23.46\tScore: 37.839\n",
      "Episode 49\tAverage Score: 23.75\tScore: 37.893\n",
      "Episode 50\tAverage Score: 24.04\tScore: 37.901\n",
      "Episode 51\tAverage Score: 24.30\tScore: 37.537\n",
      "Episode 52\tAverage Score: 24.56\tScore: 37.657\n",
      "Episode 53\tAverage Score: 24.81\tScore: 38.105\n",
      "Episode 54\tAverage Score: 25.05\tScore: 37.563\n",
      "Episode 55\tAverage Score: 25.29\tScore: 37.960\n",
      "Episode 56\tAverage Score: 25.51\tScore: 37.791\n",
      "Episode 57\tAverage Score: 25.72\tScore: 37.463\n",
      "Episode 58\tAverage Score: 25.92\tScore: 37.436\n",
      "Episode 59\tAverage Score: 26.12\tScore: 37.468\n",
      "Episode 60\tAverage Score: 26.30\tScore: 37.220\n",
      "Episode 61\tAverage Score: 26.49\tScore: 37.820\n",
      "Episode 62\tAverage Score: 26.68\tScore: 37.964\n",
      "Episode 63\tAverage Score: 26.86\tScore: 38.209\n",
      "Episode 64\tAverage Score: 27.03\tScore: 37.641\n",
      "Episode 65\tAverage Score: 27.19\tScore: 37.359\n",
      "Episode 66\tAverage Score: 27.33\tScore: 36.564\n",
      "Episode 67\tAverage Score: 27.47\tScore: 37.087\n",
      "Episode 68\tAverage Score: 27.61\tScore: 36.657\n",
      "Episode 69\tAverage Score: 27.75\tScore: 37.196\n",
      "Episode 70\tAverage Score: 27.89\tScore: 37.603\n",
      "Episode 71\tAverage Score: 28.02\tScore: 37.551\n",
      "Episode 72\tAverage Score: 28.15\tScore: 37.320\n",
      "Episode 73\tAverage Score: 28.28\tScore: 37.498\n",
      "Episode 74\tAverage Score: 28.41\tScore: 37.636\n",
      "Episode 75\tAverage Score: 28.52\tScore: 36.988\n",
      "Episode 76\tAverage Score: 28.64\tScore: 37.548\n",
      "Episode 77\tAverage Score: 28.75\tScore: 37.154\n",
      "Episode 78\tAverage Score: 28.86\tScore: 37.242\n",
      "Episode 79\tAverage Score: 28.97\tScore: 37.380\n",
      "Episode 80\tAverage Score: 29.07\tScore: 36.707\n",
      "Episode 81\tAverage Score: 29.17\tScore: 37.580\n",
      "Episode 82\tAverage Score: 29.27\tScore: 37.384\n",
      "Episode 83\tAverage Score: 29.37\tScore: 37.534\n",
      "Episode 84\tAverage Score: 29.46\tScore: 37.005\n",
      "Episode 85\tAverage Score: 29.55\tScore: 36.765\n",
      "Episode 86\tAverage Score: 29.64\tScore: 37.341\n",
      "Episode 87\tAverage Score: 29.72\tScore: 37.180\n",
      "Episode 88\tAverage Score: 29.81\tScore: 37.123\n",
      "Episode 89\tAverage Score: 29.89\tScore: 37.221\n",
      "Episode 90\tAverage Score: 29.97\tScore: 37.155\n",
      "Episode 91\tAverage Score: 30.05\tScore: 36.733\n",
      "Episode 91\tAverage Score: 30.05\n"
     ]
    }
   ],
   "source": [
    "score = DDPG()"
   ]
  },
  {
   "cell_type": "markdown",
   "metadata": {},
   "source": [
    "Enjoy the beautiful rising curves."
   ]
  },
  {
   "cell_type": "code",
   "execution_count": 13,
   "metadata": {},
   "outputs": [
    {
     "data": {
      "image/png": "[encoded data removed]",
      "text/plain": [
       "<Figure size 432x288 with 1 Axes>"
      ]
     },
     "metadata": {
      "needs_background": "light"
     },
     "output_type": "display_data"
    }
   ],
   "source": [
    "fig = plt.figure()\n",
    "ax = fig.add_subplot(111)\n",
    "plt.plot(np.arange(1, len(score)+1), score)\n",
    "plt.ylabel('Score')\n",
    "plt.xlabel('Episode #')\n",
    "plt.show()"
   ]
  },
  {
   "cell_type": "markdown",
   "metadata": {},
   "source": [
    "### 9. Let's look at the smart agent we trained\n",
    "It is stored in *Checkpoint_xx.pth* trained weights. Let's load this file now."
   ]
  },
  {
   "cell_type": "code",
   "execution_count": 14,
   "metadata": {},
   "outputs": [],
   "source": [
    "agents.actor_local.load_state_dict(torch.load('checkpoint_actor.pth', map_location='cpu'))\n",
    "agents.critic_local.load_state_dict(torch.load('checkpoint_critic.pth', map_location='cpu'))\n",
    "\n",
    "env_info = env.reset(train_mode=False)[brain_name]        \n",
    "states = env_info.vector_observations                  \n",
    "scores = np.zeros(num_agents)                          \n",
    "\n",
    "for i in range(200):\n",
    "    actions = agents.act(states, add_noise=False)                    \n",
    "    env_info = env.step(actions)[brain_name]        \n",
    "    next_states = env_info.vector_observations        \n",
    "    rewards = env_info.rewards                        \n",
    "    dones = env_info.local_done                 \n",
    "    scores += rewards                         \n",
    "    states = next_states                              \n",
    "    if np.any(dones):                              \n",
    "        break"
   ]
  },
  {
   "cell_type": "code",
   "execution_count": 15,
   "metadata": {},
   "outputs": [],
   "source": [
    "env.close()"
   ]
  },
  {
   "cell_type": "markdown",
   "metadata": {},
   "source": [
    "### 10. Result\n",
    "\n",
    "- Targeted Average Scores reached  within 91 episodes.\n",
    "- Batch Nomalization help to speed up a bit\n",
    "\n",
    "Thank you"
   ]
  }
 ],
 "metadata": {
  "kernelspec": {
   "display_name": "drlnd",
   "language": "python",
   "name": "drlnd"
  },
  "language_info": {
   "codemirror_mode": {
    "name": "ipython",
    "version": 3
   },
   "file_extension": ".py",
   "mimetype": "text/x-python",
   "name": "python",
   "nbconvert_exporter": "python",
   "pygments_lexer": "ipython3",
   "version": "3.6.9"
  }
 },
 "nbformat": 4,
 "nbformat_minor": 2
}
